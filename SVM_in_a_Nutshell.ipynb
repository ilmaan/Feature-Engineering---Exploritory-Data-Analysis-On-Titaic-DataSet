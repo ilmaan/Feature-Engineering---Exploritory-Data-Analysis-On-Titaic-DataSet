{
  "nbformat": 4,
  "nbformat_minor": 0,
  "metadata": {
    "colab": {
      "name": "SVM in a Nutshell.ipynb",
      "provenance": [],
      "authorship_tag": "ABX9TyOGmg2r6VO8Vk3CdKBt9oby",
      "include_colab_link": true
    },
    "kernelspec": {
      "name": "python3",
      "display_name": "Python 3"
    },
    "language_info": {
      "name": "python"
    }
  },
  "cells": [
    {
      "cell_type": "markdown",
      "metadata": {
        "id": "view-in-github",
        "colab_type": "text"
      },
      "source": [
        "<a href=\"https://colab.research.google.com/github/ilmaan/Feature-Engineering---Exploritory-Data-Analysis-On-Titaic-DataSet/blob/main/SVM_in_a_Nutshell.ipynb\" target=\"_parent\"><img src=\"https://colab.research.google.com/assets/colab-badge.svg\" alt=\"Open In Colab\"/></a>"
      ]
    },
    {
      "cell_type": "code",
      "metadata": {
        "id": "cZo8Qb-uT4LX"
      },
      "source": [
        "import numpy as np \n",
        "import pandas as pd\n",
        "import matplotlib.pyplot as plt\n"
      ],
      "execution_count": 7,
      "outputs": []
    },
    {
      "cell_type": "code",
      "metadata": {
        "id": "ehF87XGUUFxm"
      },
      "source": [
        "import sklearn.svm as s\n",
        "import sklearn.datasets as sds\n",
        "import sklearn.model_selection as md"
      ],
      "execution_count": 9,
      "outputs": []
    },
    {
      "cell_type": "code",
      "metadata": {
        "id": "S9cGjnrBUKHT"
      },
      "source": [
        "tp = sds.make_circles()"
      ],
      "execution_count": 6,
      "outputs": []
    },
    {
      "cell_type": "code",
      "metadata": {
        "id": "MGfjN_CjUfM7"
      },
      "source": [
        "x=tp[0]\n",
        "y= tp[1]"
      ],
      "execution_count": 8,
      "outputs": []
    },
    {
      "cell_type": "code",
      "metadata": {
        "id": "aokgrZ1PUrzn"
      },
      "source": [
        "xtrain,xtest,ytrain,ytest = md.train_test_split(x,y)"
      ],
      "execution_count": 47,
      "outputs": []
    },
    {
      "cell_type": "code",
      "metadata": {
        "id": "FF1oxJADVDDc"
      },
      "source": [
        "model = s.SVC(gamma=7)"
      ],
      "execution_count": 120,
      "outputs": []
    },
    {
      "cell_type": "code",
      "metadata": {
        "colab": {
          "base_uri": "https://localhost:8080/"
        },
        "id": "_t1Fb8IlVLAh",
        "outputId": "06ac92a1-d9ef-4418-c542-afcf7b4df7cd"
      },
      "source": [
        "model.fit(xtrain,ytrain)"
      ],
      "execution_count": 121,
      "outputs": [
        {
          "output_type": "execute_result",
          "data": {
            "text/plain": [
              "SVC(C=1.0, break_ties=False, cache_size=200, class_weight=None, coef0=0.0,\n",
              "    decision_function_shape='ovr', degree=3, gamma=7, kernel='rbf', max_iter=-1,\n",
              "    probability=False, random_state=None, shrinking=True, tol=0.001,\n",
              "    verbose=False)"
            ]
          },
          "metadata": {},
          "execution_count": 121
        }
      ]
    },
    {
      "cell_type": "code",
      "metadata": {
        "id": "ei4VfF67VngK"
      },
      "source": [
        "yptr = model.predict(xtrain)"
      ],
      "execution_count": 122,
      "outputs": []
    },
    {
      "cell_type": "code",
      "metadata": {
        "id": "GV6hREWFVROT"
      },
      "source": [
        "yptst = model.predict(xtest)"
      ],
      "execution_count": 123,
      "outputs": []
    },
    {
      "cell_type": "code",
      "metadata": {
        "colab": {
          "base_uri": "https://localhost:8080/"
        },
        "id": "MXRX1bpNVuAh",
        "outputId": "c8110dc2-de5b-45dc-eff6-c97d205ef4c6"
      },
      "source": [
        "model.score(xtrain,ytrain)"
      ],
      "execution_count": 124,
      "outputs": [
        {
          "output_type": "execute_result",
          "data": {
            "text/plain": [
              "1.0"
            ]
          },
          "metadata": {},
          "execution_count": 124
        }
      ]
    },
    {
      "cell_type": "code",
      "metadata": {
        "colab": {
          "base_uri": "https://localhost:8080/"
        },
        "id": "J7ogvEgxXEVt",
        "outputId": "e5227a9e-7dfa-4bd3-c1b2-7a4bccd9349c"
      },
      "source": [
        "model.score(xtest,ytest)"
      ],
      "execution_count": 125,
      "outputs": [
        {
          "output_type": "execute_result",
          "data": {
            "text/plain": [
              "1.0"
            ]
          },
          "metadata": {},
          "execution_count": 125
        }
      ]
    },
    {
      "cell_type": "code",
      "metadata": {
        "id": "T2CTdXY-XGd8"
      },
      "source": [
        ""
      ],
      "execution_count": 89,
      "outputs": []
    },
    {
      "cell_type": "code",
      "metadata": {
        "id": "WJyNoJCmZOvF"
      },
      "source": [
        ""
      ],
      "execution_count": null,
      "outputs": []
    },
    {
      "cell_type": "code",
      "metadata": {
        "id": "_kOJknmlZPFG"
      },
      "source": [
        ""
      ],
      "execution_count": null,
      "outputs": []
    }
  ]
}